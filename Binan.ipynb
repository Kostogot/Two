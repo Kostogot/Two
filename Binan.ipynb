{
  "nbformat": 4,
  "nbformat_minor": 0,
  "metadata": {
    "colab": {
      "name": "Binan.ipynb",
      "provenance": [],
      "authorship_tag": "ABX9TyOijjXuUO/kY+GiwQHLzqys",
      "include_colab_link": true
    },
    "kernelspec": {
      "name": "python3",
      "display_name": "Python 3"
    },
    "language_info": {
      "name": "python"
    }
  },
  "cells": [
    {
      "cell_type": "markdown",
      "metadata": {
        "id": "view-in-github",
        "colab_type": "text"
      },
      "source": [
        "<a href=\"https://colab.research.google.com/github/Kostogot/Two/blob/main/Binan.ipynb\" target=\"_parent\"><img src=\"https://colab.research.google.com/assets/colab-badge.svg\" alt=\"Open In Colab\"/></a>"
      ]
    },
    {
      "cell_type": "code",
      "metadata": {
        "id": "4Fnnvxb-ezcq"
      },
      "source": [
        " import pandas as pd # for read file \n",
        "import warnings; warnings.simplefilter('ignore') #ignore warnings\n",
        "pd.set_option('display.max_columns', None) # display all column\n",
        "B = pd.read_excel('/binan.xlsx', 2) # read file\n",
        "#B"
      ],
      "execution_count": 24,
      "outputs": []
    },
    {
      "cell_type": "code",
      "metadata": {
        "id": "IA8rpCw6dYGW"
      },
      "source": [
        "P = [] # list\n",
        "Psh = [] # list for short\n",
        "for n in range(0,2): # cycle for profit cells \n",
        "  V = B['volume'][n] # read volume\n",
        "  if B['operation'][n] == 'buy' or B['operation'][n] == 'buysh': # if operation buy\n",
        "    B['ostatok'][n] = V # the remainder does not change\n",
        "    if B['operation'][n] == 'buy':\n",
        "      P.append([B['price'][n],n]) # price add \n",
        "    else:\n",
        "      Psh.append([B['price'][n],n])\n",
        "  else:\n",
        "    B['profit'][n] = 0 # clear cell for calculation \n",
        "    B['profit rub'][n] = 0\n",
        "    B['%'][n] = 0\n",
        "    B['%R'][n] = 0\n",
        "    ComS = 0 # sell commission in percent\n",
        "    ComB = 0 # buy commission in percent\n",
        "    ComBP = 0 # buy commission for profit\n",
        "    ComBPR = 0 # buy commission for profit rub\n",
        "    ComSR = 0 # sell commission in percent rub\n",
        "    j = 0 \n",
        "    if B['operation'][n] == 'sell':\n",
        "      P.sort() # sort of price, from min to max\n",
        "      for i in range(0,len(P)): # open purchase cycle\n",
        "        if B['ostatok'][P[i][1]] > 0 and V > 0: # if the purchase is not exhausted and there is something to sell \n",
        "          if V > B['ostatok'][P[i][1]]: # sell more buy volume \n",
        "            B['profit'][n] += (B['price'][n]-B['price'][P[i][1]])*B['ostatok'][P[i][1]] # calculation profit\n",
        "            B['profit rub'][n] += (B['price'][n]*B['$'][n]-B['price'][P[i][1]]*B['$'][P[i][1]])*B['ostatok'][P[i][1]] # calculation profit rub\n",
        "            ComS += 1/(B['price'][P[i][1]]*B['ostatok'][P[i][1]]) \n",
        "            ComBP += B['fee'][P[i][1]]*B['ostatok'][P[i][1]]/B['volume'][P[i][1]] \n",
        "            V -= B['ostatok'][P[i][1]] # reducing the remaining money\n",
        "            B['ostatok'][P[i][1]] = 0\n",
        "          else:\n",
        "            B['profit'][n] += (B['price'][n]-B['price'][P[i][1]])*V # calculation profit\n",
        "            B['profit rub'][n] += (B['price'][n]*B['$'][n]-B['price'][P[i][1]]*B['$'][P[i][1]])*V # calculation profit rub\n",
        "            ComS += 1/(B['price'][P[i][1]]*V)  \n",
        "            ComBP += B['fee'][P[i][1]]*V/B['volume'][P[i][1]]\n",
        "            B['ostatok'][P[i][1]] = round(B['ostatok'][P[i][1]]-V, 10) # calculate remainder from buy, round for show null without e+   \n",
        "            V = 0\n",
        "          ComB += B['fee'][P[i][1]]/(B['price'][P[i][1]]*B['volume'][P[i][1]])\n",
        "          ComBPR += ComBP*B['$'][P[i][1]]\n",
        "          B['%'][n] += (B['price'][n]-B['price'][P[i][1]])/B['price'][P[i][1]] # calculate base for %  \n",
        "          B['%R'][n] += (B['price'][n]*B['$'][n]-B['price'][P[i][1]]*B['$'][P[i][1]])/(B['price'][P[i][1]]*B['$'][P[i][1]]) # calculate base for % R\n",
        "          ComSR += ComS/B['$'][P[i][1]]\n",
        "          j += 1         \n",
        "    else:\n",
        "      Psh.sort(reverse=True) # sort of price, from min to max\n",
        "      for i in range(0,len(Psh)): # open purchase cycle        \n",
        "        if B['ostatok'][Psh[i][1]] > 0 and V > 0: # if the purchase is not exhausted and there is something to sell \n",
        "          if V > B['ostatok'][Psh[i][1]]: # sell more buy volume \n",
        "            B['profit'][n] += (B['price'][Psh[i][1]]-B['price'][n])*B['ostatok'][Psh[i][1]] # calculation profit\n",
        "            B['profit rub'][n] += (B['price'][Psh[i][1]]*B['$'][Psh[i][1]]-B['price'][n]*B['$'][n])*B['ostatok'][Psh[i][1]] # calculation profit rub\n",
        "            ComS += 1/(B['price'][Psh[i][1]]*B['ostatok'][Psh[i][1]]) \n",
        "            ComBP += B['fee'][Psh[i][1]]*B['ostatok'][Psh[i][1]]/B['volume'][Psh[i][1]]\n",
        "            V -= B['ostatok'][Psh[i][1]] # reducing the remaining money\n",
        "            B['ostatok'][Psh[i][1]] = 0\n",
        "          else:\n",
        "            B['profit'][n] += (B['price'][Psh[i][1]]-B['price'][n])*V # calculation profit\n",
        "            B['profit rub'][n] += (B['price'][Psh[i][1]]*B['$'][Psh[i][1]]-B['price'][n]*B['$'][n])*V # calculation profit rub\n",
        "            ComS += 1/(B['price'][Psh[i][1]]*V)  \n",
        "            ComBP += B['fee'][Psh[i][1]]*V/B['volume'][Psh[i][1]]\n",
        "            B['ostatok'][Psh[i][1]] = round(B['ostatok'][Psh[i][1]]-V, 10) # calculate remainder from buy, round for show null without e+   \n",
        "            V = 0\n",
        "          ComB += B['fee'][Psh[i][1]]/(B['price'][Psh[i][1]]*B['volume'][Psh[i][1]])\n",
        "          ComBPR += ComBP*B['$'][Psh[i][1]]\n",
        "          B['%'][n] += (B['price'][Psh[i][1]]-B['price'][n])/B['price'][Psh[i][1]] # calculate base for %\n",
        "          B['%R'][n] += (B['price'][Psh[i][1]]*B['$'][Psh[i][1]]-B['price'][n]*B['$'][n])/(B['price'][Psh[i][1]]*B['$'][Psh[i][1]]) # calculate base for % rub\n",
        "          ComSR += ComS/B['$'][Psh[i][1]]\n",
        "          j += 1     \n",
        "    B['profit'][n] = B['profit'][n]-B['fee'][n]-ComBP\n",
        "    B['profit rub'][n] = B['profit rub'][n]-B['fee'][n]*B['$'][n]-ComBPR\n",
        "    B['%'][n] = (B['%'][n]-B['fee'][n]/j*ComS-ComB)/j*100  # calculate % of profit \n",
        "    B['%R'][n] = (B['%R'][n]-B['fee'][n]*B['$'][n]/j*ComSR-ComB)/j*100  # calculate % of profit rub\n",
        "#B"
      ],
      "execution_count": 22,
      "outputs": []
    },
    {
      "cell_type": "code",
      "metadata": {
        "id": "FzRrt6XY-xvi"
      },
      "source": [
        "#B.loc[28:,['profit', '%', 'ostatok']]"
      ],
      "execution_count": 23,
      "outputs": []
    },
    {
      "cell_type": "code",
      "metadata": {
        "id": "BWKXGmHVP3Qg"
      },
      "source": [
        "B[['profit', '%', 'ostatok']].to_excel('./binan_prog.xlsx')"
      ],
      "execution_count": null,
      "outputs": []
    }
  ]
}