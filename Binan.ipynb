{
  "nbformat": 4,
  "nbformat_minor": 0,
  "metadata": {
    "colab": {
      "name": "Binan.ipynb",
      "provenance": [],
      "authorship_tag": "ABX9TyPjYClII9hVqmzpsI+YODlP"
    },
    "kernelspec": {
      "name": "python3",
      "display_name": "Python 3"
    },
    "language_info": {
      "name": "python"
    }
  },
  "cells": [
    {
      "cell_type": "code",
      "metadata": {
        "id": "4Fnnvxb-ezcq"
      },
      "source": [
        " import pandas as pd # for read file \n",
        "import warnings; warnings.simplefilter('ignore') #ignore warnings\n",
        "pd.set_option('display.max_columns', None) # display all column\n",
        "B = pd.read_excel('/binan.xlsx', 1) # read file\n",
        "#B"
      ],
      "execution_count": 14,
      "outputs": []
    },
    {
      "cell_type": "code",
      "metadata": {
        "id": "IA8rpCw6dYGW"
      },
      "source": [
        "P = [] # list\n",
        "for n in range(28,31): # cycle for profit cells \n",
        "  B['profit'][n] = 0 # clear cell for calculation \n",
        "  B['%'][n] = 0\n",
        "  V = B['volume'][n] # read volume\n",
        "  if B['operation'][n] == 'buy': # if operation buy\n",
        "    B['ostatok'][n] = B['volume'][n] # the remainder does not change\n",
        "    P.append([B['price'][n],n]) # price add \n",
        "    B['%'][n] = V*B['price'][n]\n",
        "  else:\n",
        "    P.sort() # sort of price, from min to max\n",
        "    for i in range(0,len(P)): # open purchase cycle\n",
        "      if B['ostatok'][P[i][1]] > 0 and V > 0: # if the purchase is not exhausted and there is something to sell \n",
        "        if V > B['ostatok'][P[i][1]]: # sell more buy volume \n",
        "          B['profit'][n] += (B['price'][n]-B['price'][P[i][1]])*B['ostatok'][P[i][1]] # calculation profit\n",
        "          B['%'][n] += B['price'][P[i][1]]*B['ostatok'][P[i][1]] # calculate base for %\n",
        "          V -= B['ostatok'][P[i][1]] # reducing the remaining money\n",
        "          B['ostatok'][P[i][1]] = 0\n",
        "        else:\n",
        "          B['profit'][n] += (B['price'][n]-B['price'][P[i][1]])*V # calculation profit\n",
        "          B['%'][n] += B['price'][P[i][1]]*V # calculate base for %\n",
        "          B['ostatok'][P[i][1]] = round(B['ostatok'][P[i][1]]-V, 10) # calculate remainder from buy, round for show null without e+   \n",
        "          V = 0\n",
        "  B['profit'][n] -= B['fee'][n] # subtraction of profit\n",
        "  B['%'][n] = B['profit'][n]/B['%'][n]*100 # calculate % of profit\n",
        "#B"
      ],
      "execution_count": 15,
      "outputs": []
    },
    {
      "cell_type": "code",
      "metadata": {
        "colab": {
          "base_uri": "https://localhost:8080/"
        },
        "id": "FzRrt6XY-xvi",
        "outputId": "941f1440-9dc2-4dfc-fb5f-1ee34d97e14a"
      },
      "source": [
        "B.loc[n,['profit', '%']]"
      ],
      "execution_count": null,
      "outputs": [
        {
          "output_type": "execute_result",
          "data": {
            "text/plain": [
              "profit    8.18612\n",
              "%          6.1028\n",
              "Name: 30, dtype: object"
            ]
          },
          "metadata": {},
          "execution_count": 13
        }
      ]
    },
    {
      "cell_type": "code",
      "metadata": {
        "id": "BWKXGmHVP3Qg"
      },
      "source": [
        "B[['profit', '%']].to_excel('./binan_prog.xlsx')"
      ],
      "execution_count": null,
      "outputs": []
    }
  ]
}